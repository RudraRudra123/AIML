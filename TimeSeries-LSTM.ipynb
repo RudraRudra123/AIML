{
  "cells": [
    {
      "cell_type": "code",
      "execution_count": 1,
      "metadata": {
        "colab": {
          "base_uri": "https://localhost:8080/"
        },
        "id": "K2fD7ywbdrrd",
        "outputId": "4e5c266f-2a1b-47bf-bcdb-b00d66fa918a"
      },
      "outputs": [
        {
          "output_type": "stream",
          "name": "stderr",
          "text": [
            "/usr/local/lib/python3.7/dist-packages/ipykernel_launcher.py:2: FutureWarning: The pandas.datetime class is deprecated and will be removed from pandas in a future version. Import from datetime module instead.\n",
            "  \n"
          ]
        }
      ],
      "source": [
        "from pandas import read_csv, DataFrame, concat\n",
        "from pandas import datetime\n",
        "from matplotlib import pyplot\n",
        "from math import sqrt\n",
        "from sklearn.metrics import mean_squared_error\n",
        "from pandas import Series\n",
        "from sklearn.preprocessing import MinMaxScaler\n",
        "from keras.models import Sequential\n",
        "from keras.layers import Dense\n",
        "from keras.layers import LSTM\n",
        "from math import sqrt\n",
        "from matplotlib import pyplot\n",
        "import numpy"
      ]
    },
    {
      "cell_type": "code",
      "execution_count": 3,
      "metadata": {
        "id": "imHaTr0Rdrrk"
      },
      "outputs": [],
      "source": [
        "#load the dataset\n",
        "# def parser(x):\n",
        "def parser(x):\n",
        "    return datetime.strptime('190'+x, '%Y/%m')"
      ]
    },
    {
      "cell_type": "code",
      "source": [
        "#data source from Google colab\n",
        "from google.colab import drive\n",
        "drive.mount('/content/drive')"
      ],
      "metadata": {
        "id": "x00NMMvcO7ZM",
        "outputId": "7a5b69ce-db00-415c-9339-7dc0e18ed5df",
        "colab": {
          "base_uri": "https://localhost:8080/"
        }
      },
      "execution_count": 4,
      "outputs": [
        {
          "output_type": "stream",
          "name": "stdout",
          "text": [
            "Mounted at /content/drive\n"
          ]
        }
      ]
    },
    {
      "cell_type": "code",
      "source": [
        "main_path = '/content/drive/MyDrive/ML Datasets/LSTM-dataset'\n",
        "series = read_csv(main_path+'/shampoo-sales.csv')"
      ],
      "metadata": {
        "id": "UfjdW-5nQF0K"
      },
      "execution_count": 6,
      "outputs": []
    },
    {
      "cell_type": "code",
      "source": [
        "# Loading data from local \n",
        "# series = read_csv('shampoo-sales.csv', header=0, parse_dates=[0], index_col=0, squeeze=True, date_parser=parser)\n",
        "\n",
        "# #summarize first few rows\n",
        "# print(series.head())\n",
        "# series.describe()"
      ],
      "metadata": {
        "id": "CvIyUPATMxpL"
      },
      "execution_count": null,
      "outputs": []
    },
    {
      "cell_type": "code",
      "execution_count": 7,
      "metadata": {
        "colab": {
          "base_uri": "https://localhost:8080/",
          "height": 266
        },
        "id": "I2b3Z2Sxdrrl",
        "outputId": "2cf2c5f0-1717-46b5-a03b-01cc915196d5"
      },
      "outputs": [
        {
          "output_type": "display_data",
          "data": {
            "image/png": "[encoded data removed]",
            "text/plain": [
              "<Figure size 432x288 with 1 Axes>"
            ]
          },
          "metadata": {
            "needs_background": "light"
          }
        }
      ],
      "source": [
        "# line plot\n",
        "series.plot()\n",
        "pyplot.show()"
      ]
    },
    {
      "cell_type": "code",
      "execution_count": null,
      "metadata": {
        "id": "CQIxvCchdrrm",
        "outputId": "90341c17-ca71-4df3-d174-39c897128bce"
      },
      "outputs": [
        {
          "name": "stdout",
          "output_type": "stream",
          "text": [
            "train= 24 test= 12\n"
          ]
        }
      ],
      "source": [
        "\n",
        "# split data into train and test\n",
        "X = series.values\n",
        "train, test = X[0:-12], X[-12:]\n",
        "print('train=',len(train),'test=', len(test))"
      ]
    },
    {
      "cell_type": "code",
      "execution_count": null,
      "metadata": {
        "id": "TZgZOAZ1drrn",
        "outputId": "47aad292-2330-469f-ffcf-8cb6993382b3"
      },
      "outputs": [
        {
          "data": {
            "text/plain": [
              "[266.0,\n",
              " 145.9,\n",
              " 183.1,\n",
              " 119.3,\n",
              " 180.3,\n",
              " 168.5,\n",
              " 231.8,\n",
              " 224.5,\n",
              " 192.8,\n",
              " 122.9,\n",
              " 336.5,\n",
              " 185.9,\n",
              " 194.3,\n",
              " 149.5,\n",
              " 210.1,\n",
              " 273.3,\n",
              " 191.4,\n",
              " 287.0,\n",
              " 226.0,\n",
              " 303.6,\n",
              " 289.9,\n",
              " 421.6,\n",
              " 264.5,\n",
              " 342.3]"
            ]
          },
          "execution_count": 79,
          "metadata": {},
          "output_type": "execute_result"
        }
      ],
      "source": [
        "# walk forward validation\n",
        "history = [x for x in train]\n",
        "history"
      ]
    },
    {
      "cell_type": "code",
      "execution_count": null,
      "metadata": {
        "id": "MATJlteAdrro",
        "outputId": "59342902-a526-4bd3-ca6d-cb138364b143"
      },
      "outputs": [
        {
          "data": {
            "image/png": "[encoded data removed]",
            "text/plain": [
              "<Figure size 432x288 with 1 Axes>"
            ]
          },
          "metadata": {
            "needs_background": "light"
          },
          "output_type": "display_data"
        },
        {
          "name": "stdout",
          "output_type": "stream",
          "text": [
            "RMSE: 136.761\n"
          ]
        }
      ],
      "source": [
        "predictions = list()\n",
        "for i in range(len(test)):\n",
        "    #make predictions\n",
        "    predictions.append(history[-1])\n",
        "    #observations\n",
        "    history.append(test[i]) \n",
        "#report performance\n",
        "rmse = sqrt(mean_squared_error(test, predictions))\n",
        "#line plot of observed vs predicted\n",
        "pyplot.plot(test)\n",
        "pyplot.plot(predictions)\n",
        "pyplot.show()\n",
        "print('RMSE: %.3f' % rmse)"
      ]
    },
    {
      "cell_type": "code",
      "execution_count": null,
      "metadata": {
        "id": "EhJ6HAPZdrrq"
      },
      "outputs": [],
      "source": [
        "#frame a sequence as a supervised learning\n",
        "def timeseries_to_supervised(data, lag=1):\n",
        "    df = DataFrame(data)\n",
        "    columns = [df.shift(i) for i in range(1, lag+1)]\n",
        "    columns.append(df)\n",
        "    df = concat(columns, axis=1)\n",
        "    df.fillna(0, inplace=True)\n",
        "    return df\n",
        "\n",
        "# create a differenced series\n",
        "def difference(dataset, interval=1):\n",
        "    diff= list()\n",
        "    for i in range(interval, len(dataset)):\n",
        "        value = dataset[i] - dataset[i - interval]\n",
        "        diff.append(value)\n",
        "    return Series(diff)\n",
        "\n",
        "#inverse differenced value\n",
        "def inverse_difference(history, yhat, interval=1):\n",
        "    return yhat + history[-interval]\n",
        "        \n",
        "# scale train and test data to [-1,1]     \n",
        "def scale(train, test):\n",
        "    #fit scaler\n",
        "    scaler = MinMaxScaler(feature_rane=(-1,1))\n",
        "    scaler = scaler.fit(train)\n",
        "    #transform train\n",
        "    train = train.reshape(train.shape[0], train.shape[1])\n",
        "    train_scaled = scaler.transform(train)\n",
        "    #transform test\n",
        "    test = test.reshape(test.shae[0], train.shape[1])\n",
        "    test_scaled = scaler.transform(test)\n",
        "    return train_scaled, test_scaled\n",
        "# inverse scaling for a forecasted value\n",
        "def inverse_scale(scaler, X,value):\n",
        "    new_row = [x for x in X] + [value]\n",
        "    array = numpy.array(new_row)\n",
        "    array = array.reshape(1, len(array))\n",
        "    inverted = scaler.inverse_transform(array)\n",
        "    return inverted[0, -1]\n",
        "# fit an LSTM network to training data\n",
        "def fit_lstm(train, batch_size, nb_epoch, neurons):\n",
        "    X, y = train[:, 0:-1], train[:, -1]\n",
        "    X = X.reshape(X.shape[0], 1, X.shape[1])\n",
        "    model = Sequential()\n",
        "    model.add(LSTM(neurons, batch_input_shape=(batch_size, X.shape[1], X.shape[2]), stateful=True))\n",
        "    model.add(Dense(1))\n",
        "    model.compile(loss='mean_squared_error', optimizer='adam')\n",
        "    for i in range(nb_epoch):\n",
        "        model.fit(X, y, epochs=1, batch_size=batch_size, verbose=0, shuffle=False)\n",
        "        model.reset_states()\n",
        "    return model\n",
        "\n",
        "#MAKE A ONE-STEP FORECAST\n",
        "def forecast_lstm(model, batch_size, X):\n",
        "    X = X.reshape(1, 1, len(X))\n",
        "    yhat = model.predict(X, batch_size = batch_size)\n",
        "    return yhat[0, 0]"
      ]
    },
    {
      "cell_type": "code",
      "execution_count": null,
      "metadata": {
        "id": "o8BLBDPLdrrs",
        "outputId": "5dd59db1-fa59-4565-b088-5787a1745195"
      },
      "outputs": [
        {
          "ename": "NameError",
          "evalue": "name 'Series' is not defined",
          "output_type": "error",
          "traceback": [
            "\u001b[1;31m---------------------------------------------------------------------------\u001b[0m",
            "\u001b[1;31mNameError\u001b[0m                                 Traceback (most recent call last)",
            "\u001b[1;32m<ipython-input-103-20f2cb440a02>\u001b[0m in \u001b[0;36m<module>\u001b[1;34m\u001b[0m\n\u001b[0;32m      1\u001b[0m \u001b[1;31m# transform to supervised learning\u001b[0m\u001b[1;33m\u001b[0m\u001b[1;33m\u001b[0m\u001b[1;33m\u001b[0m\u001b[0m\n\u001b[0;32m      2\u001b[0m \u001b[0mrow_values\u001b[0m \u001b[1;33m=\u001b[0m \u001b[0mseries\u001b[0m\u001b[1;33m.\u001b[0m\u001b[0mvalues\u001b[0m\u001b[1;33m\u001b[0m\u001b[1;33m\u001b[0m\u001b[0m\n\u001b[1;32m----> 3\u001b[1;33m \u001b[0mdiff_values\u001b[0m \u001b[1;33m=\u001b[0m \u001b[0mdifference\u001b[0m\u001b[1;33m(\u001b[0m\u001b[0mrow_values\u001b[0m\u001b[1;33m,\u001b[0m \u001b[1;36m1\u001b[0m\u001b[1;33m)\u001b[0m\u001b[1;33m\u001b[0m\u001b[1;33m\u001b[0m\u001b[0m\n\u001b[0m\u001b[0;32m      4\u001b[0m \u001b[1;33m\u001b[0m\u001b[0m\n\u001b[0;32m      5\u001b[0m \u001b[1;31m# transform data to be supervised learning\u001b[0m\u001b[1;33m\u001b[0m\u001b[1;33m\u001b[0m\u001b[1;33m\u001b[0m\u001b[0m\n",
            "\u001b[1;32m<ipython-input-102-2d04ec4d7924>\u001b[0m in \u001b[0;36mdifference\u001b[1;34m(dataset, interval)\u001b[0m\n\u001b[0;32m     14\u001b[0m         \u001b[0mvalue\u001b[0m \u001b[1;33m=\u001b[0m \u001b[0mdataset\u001b[0m\u001b[1;33m[\u001b[0m\u001b[0mi\u001b[0m\u001b[1;33m]\u001b[0m \u001b[1;33m-\u001b[0m \u001b[0mdataset\u001b[0m\u001b[1;33m[\u001b[0m\u001b[0mi\u001b[0m \u001b[1;33m-\u001b[0m \u001b[0minterval\u001b[0m\u001b[1;33m]\u001b[0m\u001b[1;33m\u001b[0m\u001b[1;33m\u001b[0m\u001b[0m\n\u001b[0;32m     15\u001b[0m         \u001b[0mdiff\u001b[0m\u001b[1;33m.\u001b[0m\u001b[0mappend\u001b[0m\u001b[1;33m(\u001b[0m\u001b[0mvalue\u001b[0m\u001b[1;33m)\u001b[0m\u001b[1;33m\u001b[0m\u001b[1;33m\u001b[0m\u001b[0m\n\u001b[1;32m---> 16\u001b[1;33m     \u001b[1;32mreturn\u001b[0m \u001b[0mSeries\u001b[0m\u001b[1;33m(\u001b[0m\u001b[0mdiff\u001b[0m\u001b[1;33m)\u001b[0m\u001b[1;33m\u001b[0m\u001b[1;33m\u001b[0m\u001b[0m\n\u001b[0m\u001b[0;32m     17\u001b[0m \u001b[1;33m\u001b[0m\u001b[0m\n\u001b[0;32m     18\u001b[0m \u001b[1;31m#inverse differenced value\u001b[0m\u001b[1;33m\u001b[0m\u001b[1;33m\u001b[0m\u001b[1;33m\u001b[0m\u001b[0m\n",
            "\u001b[1;31mNameError\u001b[0m: name 'Series' is not defined"
          ]
        }
      ],
      "source": [
        "# transform to supervised learning\n",
        "row_values = series.values\n",
        "diff_values = difference(row_values, 1)\n",
        "\n",
        "# transform data to be supervised learning\n",
        "supervised = timeseries_to_supervised(diff_values, 1)\n",
        "print(supervised.head())\n",
        "\n",
        "supervised_values = supervised.values\n",
        "# split data into train and test-sets\n",
        "train, test = supervised_values[0:-12], supervised_values[-12:]\n",
        " \n",
        "# transform the scale of the data\n",
        "scaler, train_scaled, test_scaled = scale(train, test)\n",
        " \n",
        "# repeat experiment\n",
        "repeats = 30\n",
        "error_scores = list()\n",
        "for r in range(repeats):\n",
        "    # fit the model\n",
        "    lstm_model = fit_lstm(train_scaled, 1, 3000, 4)\n",
        "    # forecast the entire training dataset to build up state for forecasting\n",
        "    train_reshaped = train_scaled[:, 0].reshape(len(train_scaled), 1, 1)\n",
        "    lstm_model.predict(train_reshaped, batch_size=1)\n",
        "    # walk-forward validation on the test data\n",
        "    predictions = list()\n",
        "    for i in range(len(test_scaled)):\n",
        "    # make one-step forecast\n",
        "        X, y = test_scaled[i, 0:-1], test_scaled[i, -1]\n",
        "        yhat = forecast_lstm(lstm_model, 1, X)\n",
        "        # invert scaling\n",
        "        yhat = invert_scale(scaler, X, yhat)\n",
        "        # invert differencing\n",
        "        yhat = inverse_difference(raw_values, yhat, len(test_scaled)+1-i)\n",
        "        # store forecast\n",
        "        predictions.append(yhat)\n",
        "    # report performance\n",
        "    rmse = sqrt(mean_squared_error(raw_values[-12:], predictions))\n",
        "    print('%d) Test RMSE: %.3f' % (r+1, rmse))\n",
        "    error_scores.append(rmse)\n",
        " \n",
        "# summarize results\n",
        "results = DataFrame()\n",
        "results['rmse'] = error_scores\n",
        "print(results.describe())\n",
        "results.boxplot()\n",
        "pyplot.show()"
      ]
    },
    {
      "cell_type": "code",
      "execution_count": null,
      "metadata": {
        "id": "FbYV90Skdrru"
      },
      "outputs": [],
      "source": [
        ""
      ]
    }
  ],
  "metadata": {
    "kernelspec": {
      "display_name": "Python 3",
      "language": "python",
      "name": "python3"
    },
    "language_info": {
      "codemirror_mode": {
        "name": "ipython",
        "version": 3
      },
      "file_extension": ".py",
      "mimetype": "text/x-python",
      "name": "python",
      "nbconvert_exporter": "python",
      "pygments_lexer": "ipython3",
      "version": "3.7.3"
    },
    "colab": {
      "name": "TimeSeries-LSTM.ipynb",
      "provenance": []
    }
  },
  "nbformat": 4,
  "nbformat_minor": 0
}