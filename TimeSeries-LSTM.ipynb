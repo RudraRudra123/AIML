{
  "cells": [
    {
      "cell_type": "code",
      "execution_count": null,
      "metadata": {
        "colab": {
          "base_uri": "https://localhost:8080/"
        },
        "id": "K2fD7ywbdrrd",
        "outputId": "4e5c266f-2a1b-47bf-bcdb-b00d66fa918a"
      },
      "outputs": [
        {
          "output_type": "stream",
          "name": "stderr",
          "text": [
            "/usr/local/lib/python3.7/dist-packages/ipykernel_launcher.py:2: FutureWarning: The pandas.datetime class is deprecated and will be removed from pandas in a future version. Import from datetime module instead.\n",
            "  \n"
          ]
        }
      ],
      "source": [
        "from pandas import read_csv, DataFrame, concat\n",
        "from pandas import datetime\n",
        "from matplotlib import pyplot\n",
        "from math import sqrt\n",
        "from sklearn.metrics import mean_squared_error\n",
        "from pandas import Series\n",
        "from sklearn.preprocessing import MinMaxScaler\n",
        "from keras.models import Sequential\n",
        "from keras.layers import Dense\n",
        "from keras.layers import LSTM\n",
        "from math import sqrt\n",
        "from matplotlib import pyplot\n",
        "import numpy"
      ]
    },
    {
      "cell_type": "code",
      "execution_count": null,
      "metadata": {
        "id": "imHaTr0Rdrrk"
      },
      "outputs": [],
      "source": [
        "#load the dataset\n",
        "# def parser(x):\n",
        "def parser(x):\n",
        "    return datetime.strptime('190'+x, '%Y/%m')"
      ]
    },
    {
      "cell_type": "code",
      "source": [
        "#data source from Google colab\n",
        "from google.colab import drive\n",
        "drive.mount('/content/drive')"
      ],
      "metadata": {
        "colab": {
          "base_uri": "https://localhost:8080/"
        },
        "id": "x00NMMvcO7ZM",
        "outputId": "7a5b69ce-db00-415c-9339-7dc0e18ed5df"
      },
      "execution_count": null,
      "outputs": [
        {
          "output_type": "stream",
          "name": "stdout",
          "text": [
            "Mounted at /content/drive\n"
          ]
        }
      ]
    },
    {
      "cell_type": "code",
      "source": [
        "main_path = '/content/drive/MyDrive/ML Datasets/LSTM-dataset'\n",
        "series = read_csv(main_path+'/shampoo-sales.csv', header=0, parse_dates=[0], index_col=0, squeeze=True, date_parser=parser)"
      ],
      "metadata": {
        "id": "UfjdW-5nQF0K"
      },
      "execution_count": null,
      "outputs": []
    },
    {
      "cell_type": "code",
      "source": [
        "# Loading data from local \n",
        "# series = read_csv('shampoo-sales.csv', header=0, parse_dates=[0], index_col=0, squeeze=True, date_parser=parser)\n",
        "\n",
        "# #summarize first few rows\n",
        "# print(series.head())\n",
        "# series.describe()"
      ],
      "metadata": {
        "id": "CvIyUPATMxpL"
      },
      "execution_count": null,
      "outputs": []
    },
    {
      "cell_type": "code",
      "execution_count": null,
      "metadata": {
        "colab": {
          "base_uri": "https://localhost:8080/",
          "height": 291
        },
        "id": "I2b3Z2Sxdrrl",
        "outputId": "262df98e-9bcf-4688-e8ce-fd0deb91a43f"
      },
      "outputs": [
        {
          "output_type": "display_data",
          "data": {
            "image/png": "[encoded data removed]",
            "text/plain": [
              "<Figure size 432x288 with 1 Axes>"
            ]
          },
          "metadata": {
            "needs_background": "light"
          }
        }
      ],
      "source": [
        "# line plot\n",
        "series.plot()\n",
        "pyplot.show()"
      ]
    },
    {
      "cell_type": "code",
      "execution_count": null,
      "metadata": {
        "colab": {
          "base_uri": "https://localhost:8080/"
        },
        "id": "CQIxvCchdrrm",
        "outputId": "c594cccb-1942-4dab-ef58-fa9f55d1293a"
      },
      "outputs": [
        {
          "output_type": "stream",
          "name": "stdout",
          "text": [
            "train= 24 test= 12\n"
          ]
        }
      ],
      "source": [
        "\n",
        "# split data into train and test\n",
        "X = series.values\n",
        "train, test = X[0:-12], X[-12:]\n",
        "print('train=',len(train),'test=', len(test))"
      ]
    },
    {
      "cell_type": "code",
      "execution_count": null,
      "metadata": {
        "colab": {
          "base_uri": "https://localhost:8080/"
        },
        "id": "TZgZOAZ1drrn",
        "outputId": "75987217-4b10-4952-ff36-09d646e87b92"
      },
      "outputs": [
        {
          "output_type": "execute_result",
          "data": {
            "text/plain": [
              "[266.0,\n",
              " 145.9,\n",
              " 183.1,\n",
              " 119.3,\n",
              " 180.3,\n",
              " 168.5,\n",
              " 231.8,\n",
              " 224.5,\n",
              " 192.8,\n",
              " 122.9,\n",
              " 336.5,\n",
              " 185.9,\n",
              " 194.3,\n",
              " 149.5,\n",
              " 210.1,\n",
              " 273.3,\n",
              " 191.4,\n",
              " 287.0,\n",
              " 226.0,\n",
              " 303.6,\n",
              " 289.9,\n",
              " 421.6,\n",
              " 264.5,\n",
              " 342.3]"
            ]
          },
          "metadata": {},
          "execution_count": 14
        }
      ],
      "source": [
        "# walk forward validation\n",
        "history = [x for x in train]\n",
        "history"
      ]
    },
    {
      "cell_type": "code",
      "execution_count": null,
      "metadata": {
        "colab": {
          "base_uri": "https://localhost:8080/",
          "height": 287
        },
        "id": "MATJlteAdrro",
        "outputId": "aede9d34-47bb-407d-d371-f30ad330f91f"
      },
      "outputs": [
        {
          "output_type": "display_data",
          "data": {
            "image/png": "[encoded data removed]",
            "text/plain": [
              "<Figure size 432x288 with 1 Axes>"
            ]
          },
          "metadata": {
            "needs_background": "light"
          }
        },
        {
          "output_type": "stream",
          "name": "stdout",
          "text": [
            "RMSE: 136.761\n"
          ]
        }
      ],
      "source": [
        "predictions = list()\n",
        "for i in range(len(test)):\n",
        "    #make predictions\n",
        "    predictions.append(history[-1])\n",
        "    #observations\n",
        "    history.append(test[i]) \n",
        "#report performance\n",
        "rmse = sqrt(mean_squared_error(test, predictions))\n",
        "#line plot of observed vs predicted\n",
        "pyplot.plot(test)\n",
        "pyplot.plot(predictions)\n",
        "pyplot.show()\n",
        "print('RMSE: %.3f' % rmse)"
      ]
    },
    {
      "cell_type": "code",
      "execution_count": null,
      "metadata": {
        "id": "EhJ6HAPZdrrq"
      },
      "outputs": [],
      "source": [
        "#frame a sequence as a supervised learning\n",
        "def timeseries_to_supervised(data, lag=1):\n",
        "    df = DataFrame(data)\n",
        "    columns = [df.shift(i) for i in range(1, lag+1)]\n",
        "    columns.append(df)\n",
        "    df = concat(columns, axis=1)\n",
        "    df.fillna(0, inplace=True)\n",
        "    return df\n",
        "\n",
        "# create a differenced series\n",
        "def difference(dataset, interval=1):\n",
        "    diff= list()\n",
        "    for i in range(interval, len(dataset)):\n",
        "        value = dataset[i] - dataset[i - interval]\n",
        "        diff.append(value)\n",
        "    return Series(diff)\n",
        "\n",
        "#inverse differenced value\n",
        "def inverse_difference(history, yhat, interval=1):\n",
        "    return yhat + history[-interval]\n",
        "        \n",
        "# scale train and test data to [-1,1]     \n",
        "def scale(train, test):\n",
        "    #fit scaler\n",
        "    scaler = MinMaxScaler(feature_range=(-1,1))\n",
        "    scaler = scaler.fit(train)\n",
        "    #transform train\n",
        "    train = train.reshape(train.shape[0], train.shape[1])\n",
        "    train_scaled = scaler.transform(train)\n",
        "    #transform test\n",
        "    test = test.reshape(test.shape[0], train.shape[1])\n",
        "    test_scaled = scaler.transform(test)\n",
        "    return scaler, train_scaled, test_scaled\n",
        "# inverse scaling for a forecasted value\n",
        "def inverse_scale(scaler, X,value):\n",
        "    new_row = [x for x in X] + [value]\n",
        "    array = numpy.array(new_row)\n",
        "    array = array.reshape(1, len(array))\n",
        "    inverted = scaler.inverse_transform(array)\n",
        "    return inverted[0, -1]\n",
        "# fit an LSTM network to training data\n",
        "def fit_lstm(train, batch_size, nb_epoch, neurons):\n",
        "    X, y = train[:, 0:-1], train[:, -1]\n",
        "    X = X.reshape(X.shape[0], 1, X.shape[1])\n",
        "    model = Sequential()\n",
        "    model.add(LSTM(neurons, batch_input_shape=(batch_size, X.shape[1], X.shape[2]), stateful=True))\n",
        "    model.add(Dense(1))\n",
        "    model.compile(loss='mean_squared_error', optimizer='adam')\n",
        "    for i in range(nb_epoch):\n",
        "        model.fit(X, y, epochs=1, batch_size=batch_size, verbose=0, shuffle=False)\n",
        "        model.reset_states()\n",
        "    return model\n",
        "\n",
        "#MAKE A ONE-STEP FORECAST\n",
        "def forecast_lstm(model, batch_size, X):\n",
        "    X = X.reshape(1, 1, len(X))\n",
        "    yhat = model.predict(X, batch_size = batch_size)\n",
        "    return yhat[0, 0]"
      ]
    },
    {
      "cell_type": "code",
      "execution_count": null,
      "metadata": {
        "colab": {
          "base_uri": "https://localhost:8080/"
        },
        "id": "o8BLBDPLdrrs",
        "outputId": "3f5260bf-bca2-4986-c72a-c62181d3d380"
      },
      "outputs": [
        {
          "output_type": "execute_result",
          "data": {
            "text/plain": [
              "0    -120.1\n",
              "1      37.2\n",
              "2     -63.8\n",
              "3      61.0\n",
              "4     -11.8\n",
              "5      63.3\n",
              "6      -7.3\n",
              "7     -31.7\n",
              "8     -69.9\n",
              "9     213.6\n",
              "10   -150.6\n",
              "11      8.4\n",
              "12    -44.8\n",
              "13     60.6\n",
              "14     63.2\n",
              "15    -81.9\n",
              "16     95.6\n",
              "17    -61.0\n",
              "18     77.6\n",
              "19    -13.7\n",
              "20    131.7\n",
              "21   -157.1\n",
              "22     77.8\n",
              "23     -2.6\n",
              "24    100.7\n",
              "25   -124.5\n",
              "26    123.4\n",
              "27    -38.0\n",
              "28     36.1\n",
              "29    138.1\n",
              "30   -167.9\n",
              "31    274.4\n",
              "32   -206.7\n",
              "33    106.0\n",
              "34     65.6\n",
              "dtype: float64"
            ]
          },
          "metadata": {},
          "execution_count": 17
        }
      ],
      "source": [
        "# transform to supervised learning\n",
        "row_values = series.values\n",
        "diff_values = difference(row_values, 1)\n",
        "diff_values"
      ]
    },
    {
      "cell_type": "code",
      "execution_count": null,
      "metadata": {
        "colab": {
          "base_uri": "https://localhost:8080/"
        },
        "id": "FbYV90Skdrru",
        "outputId": "55926ac2-97c1-4579-a308-489d52199b9a"
      },
      "outputs": [
        {
          "output_type": "stream",
          "name": "stdout",
          "text": [
            "       0      0\n",
            "0    0.0 -120.1\n",
            "1 -120.1   37.2\n",
            "2   37.2  -63.8\n",
            "3  -63.8   61.0\n",
            "4   61.0  -11.8\n"
          ]
        }
      ],
      "source": [
        "\n",
        "# transform data to be supervised learning\n",
        "supervised = timeseries_to_supervised(diff_values, 1)\n",
        "print(supervised.head())\n"
      ]
    },
    {
      "cell_type": "code",
      "source": [
        "supervised_values = supervised.values\n",
        "# split data into train and test-sets\n",
        "train, test = supervised_values[0:-12], supervised_values[-12:]\n"
      ],
      "metadata": {
        "id": "aBYSRsq0X9aV"
      },
      "execution_count": null,
      "outputs": []
    },
    {
      "cell_type": "code",
      "source": [
        " \n",
        "# transform the scale of the data\n",
        "scaler, train_scaled, test_scaled = scale(train, test)"
      ],
      "metadata": {
        "id": "kvn1iqJ4i9WT"
      },
      "execution_count": null,
      "outputs": []
    },
    {
      "cell_type": "code",
      "source": [
        "raw_values = series.values"
      ],
      "metadata": {
        "id": "kOkK3T5Mmhyk"
      },
      "execution_count": null,
      "outputs": []
    },
    {
      "cell_type": "code",
      "source": [
        " \n",
        "# repeat experiment\n",
        "repeats = 30\n",
        "error_scores = list()\n",
        "for r in range(repeats):\n",
        "    # fit the model\n",
        "    lstm_model = fit_lstm(train_scaled, 1, 3000, 4)\n",
        "    # forecast the entire training dataset to build up state for forecasting\n",
        "    train_reshaped = train_scaled[:, 0].reshape(len(train_scaled), 1, 1)\n",
        "    lstm_model.predict(train_reshaped, batch_size=1)\n",
        "    # walk-forward validation on the test data\n",
        "    predictions = list()\n",
        "    for i in range(len(test_scaled)):\n",
        "    # make one-step forecast\n",
        "        X, y = test_scaled[i, 0:-1], test_scaled[i, -1]\n",
        "        yhat = forecast_lstm(lstm_model, 1, X)\n",
        "        # invert scaling\n",
        "        yhat = inverse_scale(scaler, X, yhat)\n",
        "        # invert differencing\n",
        "        yhat = inverse_difference(raw_values, yhat, len(test_scaled)+1-i)\n",
        "        # store forecast\n",
        "        predictions.append(yhat)\n",
        "    # report performance\n",
        "    rmse = sqrt(mean_squared_error(raw_values[-12:], predictions))\n",
        "    print('%d) Test RMSE: %.3f' % (r+1, rmse))\n",
        "    error_scores.append(rmse)\n",
        " \n",
        "# summarize results\n",
        "results = DataFrame()\n",
        "results['rmse'] = error_scores\n",
        "print(results.describe())\n",
        "results.boxplot()\n",
        "pyplot.show()"
      ],
      "metadata": {
        "id": "SSTNhAcMhAh0"
      },
      "execution_count": null,
      "outputs": []
    },
    {
      "cell_type": "code",
      "source": [
        "# univariate convlstm example\n",
        "from numpy import array\n",
        "from keras.models import Sequential\n",
        "from keras.layers import LSTM\n",
        "from keras.layers import Dense\n",
        "from keras.layers import Flatten\n",
        "from keras.layers import ConvLSTM2D"
      ],
      "metadata": {
        "id": "KLQyPvPQCdiM"
      },
      "execution_count": 1,
      "outputs": []
    },
    {
      "cell_type": "code",
      "source": [
        "\n",
        " # split a univariate sequence into samples\n",
        "def split_sequence(sequence, n_steps):\n",
        "\tX, y = list(), list()\n",
        "\tfor i in range(len(sequence)):\n",
        "\t\t# find the end of this pattern\n",
        "\t\tend_ix = i + n_steps\n",
        "\t\t# check if we are beyond the sequence\n",
        "\t\tif end_ix > len(sequence)-1:\n",
        "\t\t\tbreak\n",
        "\t\t# gather input and output parts of the pattern\n",
        "\t\tseq_x, seq_y = sequence[i:end_ix], sequence[end_ix]\n",
        "\t\tX.append(seq_x)\n",
        "\t\ty.append(seq_y)\n",
        "\treturn array(X), array(y)\n",
        " \n",
        "# define input sequence\n",
        "raw_seq = [10, 20, 30, 40, 50, 60, 70, 80, 90]\n",
        "# choose a number of time steps\n",
        "n_steps = 4\n",
        "# split into samples\n",
        "X, y = split_sequence(raw_seq, n_steps)\n",
        "# reshape from [samples, timesteps] into [samples, timesteps, rows, columns, features]\n",
        "n_features = 1\n",
        "n_seq = 2\n",
        "n_steps = 2\n",
        "X = X.reshape((X.shape[0], n_seq, 1, n_steps, n_features))\n",
        "# define model\n",
        "model = Sequential()\n",
        "model.add(ConvLSTM2D(filters=64, kernel_size=(1,2), activation='relu', input_shape=(n_seq, 1, n_steps, n_features)))\n",
        "model.add(Flatten())\n",
        "model.add(Dense(1))\n",
        "model.compile(optimizer='adam', loss='mse')\n",
        "# fit model\n",
        "model.fit(X, y, epochs=500, verbose=0)\n",
        "# demonstrate prediction\n",
        "x_input = array([60, 70, 80, 90])\n",
        "x_input = x_input.reshape((1, n_seq, 1, n_steps, n_features))\n",
        "yhat = model.predict(x_input, verbose=0)\n",
        "print(yhat)"
      ],
      "metadata": {
        "id": "dM3M2ocAi-J6"
      },
      "execution_count": null,
      "outputs": []
    }
  ],
  "metadata": {
    "kernelspec": {
      "display_name": "Python 3",
      "language": "python",
      "name": "python3"
    },
    "language_info": {
      "codemirror_mode": {
        "name": "ipython",
        "version": 3
      },
      "file_extension": ".py",
      "mimetype": "text/x-python",
      "name": "python",
      "nbconvert_exporter": "python",
      "pygments_lexer": "ipython3",
      "version": "3.7.3"
    },
    "colab": {
      "name": "TimeSeries-LSTM.ipynb",
      "provenance": []
    }
  },
  "nbformat": 4,
  "nbformat_minor": 0
}